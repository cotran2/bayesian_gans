{
 "cells": [
  {
   "cell_type": "markdown",
   "metadata": {},
   "source": [
    "# Research resources\n",
    "\n",
    "## Generative Adversarial Network:\n",
    "### Convergence analysis:\n",
    "Dissertation : https://arxiv.org/pdf/1806.11382.pdf. \n",
    "\n",
    "Tutorial: https://lilianweng.github.io/lil-log/2017/08/20/from-GAN-to-WGAN.html. \n",
    "\n",
    "Numerics: https://arxiv.org/abs/1705.10461. \n",
    "\n",
    "Notes on the numerics: https://www.inference.vc/my-notes-on-the-numerics-of-gans/\n",
    "\n",
    "Converge: https://www.is.mpg.de/uploads_file/attachment/attachment/438/ICML2018.pdf\n",
    "\n",
    "Which method: https://arxiv.org/pdf/1801.04406.pdf?source=post_page---------------------------\n",
    "\n",
    "VAE combining with GANs: https://scholar.google.de/citations?hl=de&user=h2k1gL4AAAAJ&view_op=list_works#d=gs_md_cita-d&u=%2Fcitations%3Fview_op%3Dview_citation%26hl%3Dde%26user%3Dh2k1gL4AAAAJ%26citation_for_view%3Dh2k1gL4AAAAJ%3Ad1gkVwhDpl0C%26tzom%3D300\n",
    "\n",
    "## Natural Gradient Descent\n",
    "### Natural Gradient\n",
    "Fisher Information Matrix: https://wiseodd.github.io/techblog/2018/03/11/fisher-information/ \n",
    "\n",
    "Natural Gradient Descent: https://wiseodd.github.io/techblog/2018/03/14/natural-gradient/\n",
    "\n",
    "Riemann Manifold MCMC: https://arxiv.org/abs/0907.1100\n",
    "\n",
    "Information Geometry: https://www.springer.com/gp/book/9784431559771\n",
    "\n",
    "Old work on natural gradient: http://citeseerx.ist.psu.edu/viewdoc/download?doi=10.1.1.452.7280&rep=rep1&type=pdf\n",
    "\n",
    "## KFAC:\n",
    "From natural gradient descent to KFAC: https://www.depthfirstlearning.com/assets/k-fac-tutorial.pdf\n",
    "\n",
    "Github work's : https://github.com/tensorflow/kfac\n",
    "\n",
    "\n",
    "# Basic introduction:\n",
    "- Neural network: https://www.youtube.com/watch?v=aircAruvnKk\n",
    "\n",
    "- Gradient Descent: https://www.youtube.com/watch?v=IHZwWFHWa-w\n",
    "\n",
    "- Back-propagate: https://www.youtube.com/watch?v=Ilg3gGewQ5U\n",
    "\n",
    "- Calculus : https://www.youtube.com/watch?v=tIeHLnjs5U8&list=PLZHQObOWTQDNU6R1_67000Dx_ZCJB-3pi&index=4\n"
   ]
  },
  {
   "cell_type": "code",
   "execution_count": null,
   "metadata": {},
   "outputs": [],
   "source": []
  }
 ],
 "metadata": {
  "kernelspec": {
   "display_name": "Python 3",
   "language": "python",
   "name": "python3"
  },
  "language_info": {
   "codemirror_mode": {
    "name": "ipython",
    "version": 3
   },
   "file_extension": ".py",
   "mimetype": "text/x-python",
   "name": "python",
   "nbconvert_exporter": "python",
   "pygments_lexer": "ipython3",
   "version": "3.6.5"
  }
 },
 "nbformat": 4,
 "nbformat_minor": 2
}
